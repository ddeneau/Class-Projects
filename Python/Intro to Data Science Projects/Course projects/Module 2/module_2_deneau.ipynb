{
 "cells": [
  {
   "cell_type": "code",
   "execution_count": null,
   "metadata": {},
   "outputs": [],
   "source": [
    "import json\n",
    "import praw\n",
    "import networkx as nx\n"
   ]
  },
  {
   "cell_type": "markdown",
   "metadata": {},
   "source": [
    "Final Version"
   ]
  },
  {
   "cell_type": "code",
   "execution_count": null,
   "metadata": {},
   "outputs": [],
   "source": [
    "id, secret, agent = \"#\", \"#\", \"[username]\"\n",
    "\n",
    "redditAPI = praw.Reddit(client_id=id, client_secret=secret, user_agent=agent)\n",
    "\n",
    "graph = nx.Graph()\n",
    "\n",
    "posts_history = list()\n",
    "\n",
    "\n",
    "def build_graph(depth, start):\n",
    "    posts = redditAPI.subreddit(start).new(limit=depth)\n",
    "    for post in posts:  \n",
    "        key = f'{post.subreddit_name_prefixed} - {post.id}'\n",
    "        graph.add_node(key, name=post.id)\n",
    "        posts_history.append(key)\n",
    "        post_author = post.author\n",
    "        author_posts = post_author.submissions.new(limit=depth)\n",
    "        print(key)\n",
    "        inner_history = list()\n",
    "        for inner_post in author_posts:\n",
    "            inner_key = f'{inner_post.subreddit_name_prefixed} - {inner_post.id}'\n",
    "            if not inner_post.id == post.id: # This means we can add the node and connection to its post.\n",
    "                print(f'\\t{inner_key}')\n",
    "                graph.add_node(inner_key, name=inner_post.id)\n",
    "                inner_history.append(inner_key)\n",
    "                graph.add_edge(key, inner_key)\n",
    "        for i in range(len(inner_history ) - 1):\n",
    "            graph.add_edge(inner_history[i], inner_history[i - 1])\n",
    "    \n",
    "    for i in range(len(posts_history ) - 1):\n",
    "        graph.add_edge(posts_history[i], posts_history[i - 1])\n",
    "            \n",
    "            \n",
    "            \n",
    "                \n",
    "\n",
    "        \n",
    "\n",
    "            \n",
    "\n",
    "build_graph(50, 'all')\n",
    "\n",
    "\n",
    "### Centrallity Measures:\n",
    "top_k = 5 # Choose a size close to the depth.\n",
    "centrality_degree = nx.degree_centrality(graph)\n",
    "for u in sorted(centrality_degree, key=centrality_degree.get, reverse=True)[:top_k]:\n",
    "    print(u, graph.nodes[u]['name'], centrality_degree[u])\n",
    "\n",
    "nx.draw_networkx(graph, with_labels=True, node_size=50, font_size=False)\n",
    "\n",
    "\n",
    "    "
   ]
  },
  {
   "cell_type": "markdown",
   "metadata": {},
   "source": [
    "Early Version"
   ]
  },
  {
   "cell_type": "code",
   "execution_count": null,
   "metadata": {},
   "outputs": [],
   "source": [
    "id, secret, agent = \"vJXa5Q5sIvO6Yn4cVKzxUg\", \"TSphVe_IMaCTIclQrU1RX2YamQqLfw\", \"ImBrown2\"\n",
    "\n",
    "redditAPI = praw.Reddit(client_id=id, client_secret=secret, user_agent=agent)\n",
    "\n",
    "graph = nx.Graph()\n",
    "\n",
    "posts_history = list()\n",
    "\n",
    "# Starts with [depth] popular posts on [startingSub], and for each post, \n",
    "# goes through the authors [depth] most popular post. \n",
    "def build_graph_(depth, starting_sub):\n",
    "    for post in redditAPI.subreddit(starting_sub).hot(limit=depth):\n",
    "        print(\"Visiting & Adding: \" + post.subreddit_name_prefixed + \"from: \" + starting_sub)\n",
    "        graph.add_node(post.subreddit_name_prefixed)\n",
    "        authors_posts = post.author.submissions.hot(limit=depth)\n",
    "        for inner_post in authors_posts:\n",
    "            if post.id == inner_post.id: continue\n",
    "            graph.add_node(inner_post.subreddit_name_prefixed)\n",
    "            graph.add_edge(post.subreddit_name_prefixed, inner_post.subreddit_name_prefixed)\n",
    "            print(\"Visiting & Adding: \" + inner_post.subreddit_name_prefixed)\n",
    "        \n",
    "        #posts.append(post)\n",
    "\n",
    "    for i in range(1, len(posts) - 1):\n",
    "        graph.add_edge(posts[i].subreddit, posts[i - 1].subreddit)\n",
    "\n",
    "\n",
    "build_graph(3, \"all\")\n",
    "print(graph)\n",
    "\n",
    "# And draw the graph with node labels\n",
    "nx.draw(graph,  \n",
    "        node_color='#A0CBE2', \n",
    "        with_labels=True,\n",
    "        node_size=50)\n",
    "\n",
    "nx.write_graphml(graph, \"output.reddit.graphml\", prettyprint=False)\n",
    "    \n"
   ]
  },
  {
   "cell_type": "markdown",
   "metadata": {},
   "source": []
  },
  {
   "cell_type": "code",
   "execution_count": null,
   "metadata": {},
   "outputs": [],
   "source": []
  }
 ],
 "metadata": {
  "interpreter": {
   "hash": "aee8b7b246df8f9039afb4144a1f6fd8d2ca17a180786b69acc140d282b71a49"
  },
  "kernelspec": {
   "display_name": "Python 3.9.7 64-bit",
   "language": "python",
   "name": "python3"
  },
  "language_info": {
   "codemirror_mode": {
    "name": "ipython",
    "version": 3
   },
   "file_extension": ".py",
   "mimetype": "text/x-python",
   "name": "python",
   "nbconvert_exporter": "python",
   "pygments_lexer": "ipython3",
   "version": "3.9.7"
  },
  "orig_nbformat": 4
 },
 "nbformat": 4,
 "nbformat_minor": 2
}
