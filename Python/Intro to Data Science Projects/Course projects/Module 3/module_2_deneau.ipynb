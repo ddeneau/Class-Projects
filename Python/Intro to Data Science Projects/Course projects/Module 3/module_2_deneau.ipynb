{
 "cells": [
  {
   "cell_type": "code",
   "execution_count": 34,
   "metadata": {},
   "outputs": [],
   "source": [
    "\n",
    "import pandas as pd\n",
    "from scipy.sparse import lil_matrix # Needed for building the matrix of user ratings\n",
    "import scipy.spatial.distance # Needed for calculating pairwise distances\n",
    "import random\n",
    "\n",
    "\n",
    "from scipy.sparse import lil_matrix\n",
    "\n",
    "from sklearn.metrics import jaccard_score\n",
    "\n",
    "data = pd.read_csv('ABBREV.csv')\n",
    "\n",
    "reduced = data[['NDB_No', 'Water_(g)', 'Energ_Kcal', 'Protein_(g)']]\n",
    "\n",
    "matrix = scipy.sparse.csr_matrix(reduced.values)\n",
    "\n",
    "df = pd.DataFrame.sparse.from_spmatrix(\n",
    "    matrix\n",
    ")\n"
   ]
  },
  {
   "cell_type": "code",
   "execution_count": 46,
   "metadata": {},
   "outputs": [
    {
     "ename": "TypeError",
     "evalue": "cdist() missing 1 required positional argument: 'XB'",
     "output_type": "error",
     "traceback": [
      "\u001b[0;31m---------------------------------------------------------------------------\u001b[0m",
      "\u001b[0;31mTypeError\u001b[0m                                 Traceback (most recent call last)",
      "\u001b[0;32m/var/folders/ly/qkgwy7jx01xbjxm6lrnbn7kh0000gn/T/ipykernel_46638/1455358506.py\u001b[0m in \u001b[0;36m<module>\u001b[0;34m\u001b[0m\n\u001b[0;32m----> 1\u001b[0;31m \u001b[0mdistances\u001b[0m \u001b[0;34m=\u001b[0m \u001b[0mscipy\u001b[0m\u001b[0;34m.\u001b[0m\u001b[0mspatial\u001b[0m\u001b[0;34m.\u001b[0m\u001b[0mdistance\u001b[0m\u001b[0;34m.\u001b[0m\u001b[0mcdist\u001b[0m\u001b[0;34m(\u001b[0m\u001b[0mreduced\u001b[0m\u001b[0;34m,\u001b[0m \u001b[0mmetric\u001b[0m\u001b[0;34m=\u001b[0m\u001b[0;34m\"cosine\"\u001b[0m\u001b[0;34m)\u001b[0m\u001b[0;34m[\u001b[0m\u001b[0;34m:\u001b[0m\u001b[0;34m,\u001b[0m\u001b[0;36m0\u001b[0m\u001b[0;34m]\u001b[0m\u001b[0;34m\u001b[0m\u001b[0;34m\u001b[0m\u001b[0m\n\u001b[0m\u001b[1;32m      2\u001b[0m \u001b[0;34m\u001b[0m\u001b[0m\n\u001b[1;32m      3\u001b[0m \u001b[0mquery_distances\u001b[0m \u001b[0;34m=\u001b[0m \u001b[0mlist\u001b[0m\u001b[0;34m(\u001b[0m\u001b[0mzip\u001b[0m\u001b[0;34m(\u001b[0m\u001b[0mdf\u001b[0m\u001b[0;34m.\u001b[0m\u001b[0mindex\u001b[0m\u001b[0;34m,\u001b[0m \u001b[0mdistances\u001b[0m\u001b[0;34m)\u001b[0m\u001b[0;34m)\u001b[0m\u001b[0;34m\u001b[0m\u001b[0;34m\u001b[0m\u001b[0m\n\u001b[1;32m      4\u001b[0m \u001b[0;34m\u001b[0m\u001b[0m\n\u001b[1;32m      5\u001b[0m \u001b[0mprint\u001b[0m\u001b[0;34m(\u001b[0m\u001b[0;34mf' 10. {max(query_distances)}'\u001b[0m \u001b[0;34m+\u001b[0m \u001b[0mdata\u001b[0m\u001b[0;34m[\u001b[0m\u001b[0;34m'Shrt_Desc'\u001b[0m\u001b[0;34m]\u001b[0m\u001b[0;34m[\u001b[0m\u001b[0;36m8789\u001b[0m\u001b[0;34m]\u001b[0m\u001b[0;34m)\u001b[0m\u001b[0;34m\u001b[0m\u001b[0;34m\u001b[0m\u001b[0m\n",
      "\u001b[0;31mTypeError\u001b[0m: cdist() missing 1 required positional argument: 'XB'"
     ]
    }
   ],
   "source": [
    "\n",
    "distances = scipy.spatial.distance.cdist(reduced, metric=\"cosine\")[:,0]\n",
    "\n",
    "query_distances = list(zip(df.index, distances))\n",
    "\n",
    "print(f' 10. {max(query_distances)}' + data['Shrt_Desc'][8789])\n",
    "query_distances.remove(max(query_distances))\n",
    "print(f' 9. {max(query_distances)}' + data['Shrt_Desc'][8788])\n",
    "query_distances.remove(max(query_distances))\n",
    "print(f' 8. {max(query_distances)}' + data['Shrt_Desc'][8787])\n",
    "query_distances.remove(max(query_distances))\n",
    "print(f' 7. {max(query_distances)}' + data['Shrt_Desc'][8786])\n",
    "query_distances.remove(max(query_distances))\n",
    "print(f' 6. {max(query_distances)}' + data['Shrt_Desc'][8785])\n",
    "query_distances.remove(max(query_distances))\n",
    "print(f' 5. {max(query_distances)}' + data['Shrt_Desc'][8784])\n",
    "query_distances.remove(max(query_distances))\n",
    "print(f' 4. {max(query_distances)}' + data['Shrt_Desc'][8783])\n",
    "query_distances.remove(max(query_distances))\n",
    "print(f' 3. {max(query_distances)}' + data['Shrt_Desc'][8782])\n",
    "query_distances.remove(max(query_distances))    \n",
    "print(f' 2. {max(query_distances)}' + data['Shrt_Desc'][8781])\n",
    "query_distances.remove(max(query_distances))\n",
    "print(f' 1. {max(query_distances)}' + data['Shrt_Desc'][8780])\n"
   ]
  },
  {
   "cell_type": "markdown",
   "metadata": {},
   "source": [
    "Final Version"
   ]
  }
 ],
 "metadata": {
  "interpreter": {
   "hash": "aee8b7b246df8f9039afb4144a1f6fd8d2ca17a180786b69acc140d282b71a49"
  },
  "kernelspec": {
   "display_name": "Python 3.9.7 64-bit",
   "language": "python",
   "name": "python3"
  },
  "language_info": {
   "codemirror_mode": {
    "name": "ipython",
    "version": 3
   },
   "file_extension": ".py",
   "mimetype": "text/x-python",
   "name": "python",
   "nbconvert_exporter": "python",
   "pygments_lexer": "ipython3",
   "version": "3.9.7"
  },
  "orig_nbformat": 4
 },
 "nbformat": 4,
 "nbformat_minor": 2
}
