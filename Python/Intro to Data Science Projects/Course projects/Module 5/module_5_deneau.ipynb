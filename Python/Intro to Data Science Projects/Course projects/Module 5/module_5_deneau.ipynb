{
 "cells": [
  {
   "cell_type": "code",
   "execution_count": 2,
   "metadata": {},
   "outputs": [],
   "source": [
    "import json\n",
    "\n",
    "import numpy as np\n",
    "import pandas as pd\n",
    "import matplotlib.pyplot as plt\n",
    "import asyncio\n",
    "\n",
    "from csv import DictReader\n",
    "from sklearn import preprocessing\n",
    "from sklearn.preprocessing import PolynomialFeatures, MinMaxScaler\n",
    "from sklearn.model_selection import train_test_split\n",
    "from sklearn.linear_model import LogisticRegression\n",
    "from sklearn.pipeline import make_pipeline\n",
    "from sklearn.datasets import make_classification\n",
    "\n",
    "df = pd.read_csv('soil_data.csv')\n"
   ]
  },
  {
   "cell_type": "markdown",
   "metadata": {},
   "source": [
    "Final Version"
   ]
  },
  {
   "cell_type": "markdown",
   "metadata": {},
   "source": [
    "Early Version"
   ]
  },
  {
   "cell_type": "code",
   "execution_count": 13,
   "metadata": {},
   "outputs": [
    {
     "name": "stdout",
     "output_type": "stream",
     "text": [
      "Testing Score: 0.7930591259640103 Training Score: 0.8090948090948091\n"
     ]
    }
   ],
   "source": [
    "x = df[['WAT_LAND','NVG_LAND','URB_LAND','GRS_LAND','FOR_LAND','CULTRF_LAND']].values\n",
    "y = df['SQ4'].values\n",
    "\n",
    "x_train, x_test, y_train, y_test = train_test_split(x, y, random_state=5)\n",
    "regr = LogisticRegression( max_iter = 4000, penalty='l2', solver='newton-cg')\n",
    "regr.fit(x_train ,y_train)\n",
    "\n",
    "\n",
    "\n",
    "test = regr.score(x_test, y_test)\n",
    "train = regr.score(x_train, y_train)\n",
    "print(f'Testing Score: {test} Training Score: {train}')\n"
   ]
  },
  {
   "cell_type": "markdown",
   "metadata": {},
   "source": []
  },
  {
   "cell_type": "code",
   "execution_count": 7,
   "metadata": {},
   "outputs": [],
   "source": [
    "x_train, x_test, y_train, y_test = train_test_split(x, y, random_state=5)\n",
    "regr = LogisticRegression( max_iter = 4000, penalty='l2', solver='newton-cg')\n",
    "regr.fit(x_train ,y_train)\n",
    "\n",
    "\n",
    "\n",
    "test = regr.score(x_test, y_test)\n",
    "train = regr.score(x_train, y_train)"
   ]
  },
  {
   "cell_type": "code",
   "execution_count": 5,
   "metadata": {},
   "outputs": [
    {
     "name": "stdout",
     "output_type": "stream",
     "text": [
      "Testing Score: 0.7930591259640103 Training Score: 0.8090948090948091\n"
     ]
    }
   ],
   "source": [
    "print(f'Testing Score: {test} Training Score: {train}')\n"
   ]
  },
  {
   "cell_type": "code",
   "execution_count": null,
   "metadata": {},
   "outputs": [],
   "source": []
  },
  {
   "cell_type": "code",
   "execution_count": 85,
   "metadata": {},
   "outputs": [],
   "source": [
    "minmax = MinMaxScaler()\n",
    "poly = PolynomialFeatures(degree=4)\n",
    "minmax.fit(x_train)\n",
    "\n",
    "x_train_scaled = minmax.transform(x_train)\n",
    "x_train_poly = poly.fit_transform(x_train_scaled)\n",
    "\n",
    "x_test_scaled = minmax.transform(x_test)\n",
    "x_test_poly = poly.fit_transform(x_test_scaled)\n",
    "\n",
    "\n",
    "regr_fm = LogisticRegression( max_iter = 5000, solver='liblinear')\n",
    "\n",
    "# Retrain using the min/max and polynomial normalized data\n",
    "regr_fm.fit(x_train_poly,y_train)\n",
    "\n",
    "\n",
    "train_fm = regr_fm.score(x_train_poly, y_train)\n",
    "test_fm = regr_fm.score(x_test_poly, y_test)"
   ]
  },
  {
   "cell_type": "code",
   "execution_count": 86,
   "metadata": {},
   "outputs": [
    {
     "name": "stdout",
     "output_type": "stream",
     "text": [
      "Testing Score SQ1: 0.9383033419023136 Training Score SQ1: 0.9446589446589446\n"
     ]
    }
   ],
   "source": [
    "print(f'Testing Score SQ1: {test_fm} Training Score SQ1: {train_fm}')"
   ]
  }
 ],
 "metadata": {
  "interpreter": {
   "hash": "aee8b7b246df8f9039afb4144a1f6fd8d2ca17a180786b69acc140d282b71a49"
  },
  "kernelspec": {
   "display_name": "Python 3.9.7 64-bit",
   "language": "python",
   "name": "python3"
  },
  "language_info": {
   "codemirror_mode": {
    "name": "ipython",
    "version": 3
   },
   "file_extension": ".py",
   "mimetype": "text/x-python",
   "name": "python",
   "nbconvert_exporter": "python",
   "pygments_lexer": "ipython3",
   "version": "3.9.7"
  },
  "orig_nbformat": 4
 },
 "nbformat": 4,
 "nbformat_minor": 2
}
