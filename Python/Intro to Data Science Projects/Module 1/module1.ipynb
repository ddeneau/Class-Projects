{
 "cells": [
  {
   "cell_type": "code",
   "execution_count": 27,
   "metadata": {},
   "outputs": [],
   "source": [
    "\n",
    "import requests\n",
    "import time\n",
    "import random\n",
    "import matplotlib.pyplot as plt \n",
    "\n",
    "import pandas as pd\n",
    "import csv\n",
    "\n"
   ]
  },
  {
   "cell_type": "markdown",
   "metadata": {},
   "source": [
    "First things first, we want to find a large amount of airports to collect data about. I found this spreadsheet online with a airports all around the world, so lets bring it into our project."
   ]
  },
  {
   "cell_type": "code",
   "execution_count": null,
   "metadata": {},
   "outputs": [],
   "source": [
    "us_airport_list = list()\n",
    "\n",
    "# This will just give us a list of US airport codes.\n",
    "with open('airport-codes.csv', 'r') as airport_file:\n",
    "    for location in csv.DictReader(airport_file):\n",
    "        if location['iso_country'] == 'US' and location['iata_code'] != '':\n",
    "            if 'airport' in location['type']:\n",
    "                us_airport_list.append(location['iata_code'])\n",
    "        \n",
    "\n",
    "\n",
    "print(\"Number of airports collected: \" + str(len(us_airport_list)))"
   ]
  },
  {
   "cell_type": "markdown",
   "metadata": {},
   "source": [
    "Now that we know how many airports we want to search for using the API, lets go ahead and see which ones we are sure we can connect to."
   ]
  },
  {
   "cell_type": "code",
   "execution_count": null,
   "metadata": {},
   "outputs": [],
   "source": [
    "api_prefix = \"https://api.aviationapi.com/v1\"\n",
    "weather_list = list()\n",
    "traffic_list = list()\n",
    "airports_used = list()\n",
    "subset = us_airport_list[:1]\n",
    "\n",
    "# This loop takes a long time to run, but it always results in finding an airport, that has the data we need.\n",
    "for airport in subset:\n",
    "    successful = False # Did we successfully find an airport.\n",
    "\n",
    "    while not successful:\n",
    "        weather_resp = requests.get(api_prefix + \"/weather/metar\", params={ \"apt\": airport})\n",
    "        traffic_resp = requests.get(api_prefix + \"/vatsim/pilots\", params={ \"apt\": airport})\n",
    "        weather_data_raw = weather_resp.json()\n",
    "        traffic_data_raw = traffic_resp.json()\n",
    "        # Keep trying to get both weather and traffic repsonses.\n",
    "        try:\n",
    "            visitors  = traffic_data_raw[\"K\" + airport]['Departures']\n",
    "            if weather_data_raw['status'] == 'error' or traffic_data_raw['status'] == 'error':\n",
    "                successful = False\n",
    "                random.shuffle(us_airport_list)\n",
    "                airport = us_airport_list[:1].pop() # Get a random airport.\n",
    "        except KeyError: \n",
    "            successful = True\n",
    "\n",
    "        if visitors == []:\n",
    "            successful = False\n",
    "            random.shuffle(us_airport_list)\n",
    "            airport = us_airport_list[:1].pop() # Get a random airport.\n",
    "        else:\n",
    "            successful = True\n",
    "\n",
    "\n",
    "    weather_list.append(weather_data_raw)\n",
    "    traffic_list.append(traffic_data_raw)\n",
    "    airports_used.append(airport)\n",
    "\n",
    "    with open('myairports.csv', 'a', newline='') as csvfile:\n",
    "        writer = csv.writer(csvfile,delimiter=' ', quotechar='|', quoting=csv.QUOTE_MINIMAL)\n",
    "        writer.writerow([airport, weather_list, traffic_list])\n",
    "\n",
    "\n",
    "    \n",
    "\n",
    "    time.sleep(1)\n",
    "\n"
   ]
  },
  {
   "cell_type": "markdown",
   "metadata": {},
   "source": [
    "The code below is for airports WE KNOW will return both types of data for."
   ]
  },
  {
   "cell_type": "code",
   "execution_count": 87,
   "metadata": {},
   "outputs": [
    {
     "name": "stdout",
     "output_type": "stream",
     "text": [
      "{'KMIA': 11, 'KCVG': 10, 'KMEM': 10, 'KJFK': 6, 'KILM': 5, 'KBWI': 0, 'KPHL': 3, 'KLAX': 10, 'KIAH': 18, 'KPVD': 5}\n"
     ]
    }
   ],
   "source": [
    "codes = {'JFK', 'BWI', 'ILM', 'PVD', 'MEM', 'PHL', 'MIA', 'IAH', 'CVG', 'LAX'}\n",
    "api_prefix = \"https://api.aviationapi.com/v1\"\n",
    "wind_velocities = dict()\n",
    "flights_in = dict()\n",
    "flights_out = dict()\n",
    "\n",
    "\n",
    "for iata_code in codes:\n",
    "    weather_resp = requests.get(api_prefix + \"/weather/metar\", params={ \"apt\": iata_code})\n",
    "    try:\n",
    "        airport_metar = weather_resp.json()[f\"K{iata_code}\"]\n",
    "        wind_velocities[f\"K{iata_code}\"] = int(airport_metar['wind_vel'])\n",
    "    except KeyError:\n",
    "        continue\n",
    "    # Record just the wind velocity for each airport\n",
    "    #time.sleep(1)\n",
    "\n",
    "for iata_code in codes:\n",
    "    traffic_resp = requests.get(api_prefix + \"/vatsim/pilots\", params={ \"apt\": iata_code})\n",
    "    try:\n",
    "        traffic_info = traffic_resp.json()[f\"K{iata_code}\"]\n",
    "        arrivals = len(traffic_info['Arrivals'])\n",
    "        departures = len(traffic_info['Departures'])\n",
    "        flights_in[f\"{iata_code}\"] = arrivals\n",
    "        flights_out[f\"{iata_code}\"] = departures\n",
    "    except KeyError:\n",
    "         continue\n",
    "    # Record just the number of entries into departure, + arrivalsl\n",
    "    time.sleep(1)\n",
    "\n",
    "print(wind_velocities)\n"
   ]
  },
  {
   "cell_type": "code",
   "execution_count": 88,
   "metadata": {},
   "outputs": [
    {
     "data": {
      "image/png": "[encoded data removed]",
      "text/plain": [
       "<Figure size 432x288 with 1 Axes>"
      ]
     },
     "metadata": {
      "needs_background": "light"
     },
     "output_type": "display_data"
    }
   ],
   "source": [
    "\n",
    "plt.title(\"Flights and Wind Velocity at US Airports\",fontsize=12)\n",
    "y = list(flights_in.values())\n",
    "x =  list(wind_velocities.values())\n",
    "y2 = list(flights_out.values())\n",
    "plt.scatter(x, y)\n",
    "plt.scatter(x, y2)\n",
    "plt.xlabel(\"Wind Velocity (knots)\")\n",
    "plt.ylabel(\"Number of Flights\")\n",
    "plt.legend(['Flight In','Flight Out'])\n",
    "\n",
    "for i, label in enumerate(flights_in.keys()):\n",
    "    plt.text(x[i], y[i], label)\n",
    "    plt.text(x[i], y2[i], label)\n",
    "\n"
   ]
  },
  {
   "cell_type": "code",
   "execution_count": 85,
   "metadata": {},
   "outputs": [
    {
     "data": {
      "text/plain": [
       "<BarContainer object of 9 artists>"
      ]
     },
     "execution_count": 85,
     "metadata": {},
     "output_type": "execute_result"
    },
    {
     "data": {
      "image/png": "[encoded data removed]",
      "text/plain": [
       "<Figure size 432x288 with 1 Axes>"
      ]
     },
     "metadata": {
      "needs_background": "light"
     },
     "output_type": "display_data"
    }
   ],
   "source": [
    "total_flights = list()\n",
    "for k in flights_in.keys():\n",
    "    total_flights.append(flights_out[k] + flights_in[k])\n",
    "\n",
    "plt.title(\"Busiest US Airports (Inbound flights only)\")\n",
    "x = list(flights_in.keys())\n",
    "y = list(flights_in.values())\n",
    "plt.xlabel(\"Airport IATA Code\")\n",
    "plt.ylabel(\"Inbound Flights\")\n",
    "plt.bar(x, y)"
   ]
  },
  {
   "cell_type": "code",
   "execution_count": 89,
   "metadata": {},
   "outputs": [
    {
     "data": {
      "text/plain": [
       "<BarContainer object of 10 artists>"
      ]
     },
     "execution_count": 89,
     "metadata": {},
     "output_type": "execute_result"
    },
    {
     "data": {
      "image/png": "[encoded data removed]",
      "text/plain": [
       "<Figure size 432x288 with 1 Axes>"
      ]
     },
     "metadata": {
      "needs_background": "light"
     },
     "output_type": "display_data"
    }
   ],
   "source": [
    "plt.title(\"Windiest US Airports\")\n",
    "x = list(wind_velocities.keys())\n",
    "y = list(wind_velocities.values())\n",
    "plt.xlabel(\"Airport IATA Code\")\n",
    "plt.ylabel(\"Wind Velocity in knots\")\n",
    "plt.bar(x, y)"
   ]
  },
  {
   "cell_type": "markdown",
   "metadata": {},
   "source": [
    "Analyze\n",
    "# How many flights was the max?\n",
    "# What was the recorded wind velocity\n",
    "# How does wind velocity relate to the number of flights."
   ]
  },
  {
   "cell_type": "code",
   "execution_count": 53,
   "metadata": {},
   "outputs": [
    {
     "name": "stdout",
     "output_type": "stream",
     "text": [
      "Highest number of inbound flights: PVD: 7\n",
      "Highest number of outbound flights: PVD: 5\n",
      "5\n",
      "Highest number of inbound flights: BWI: 0\n",
      "Highest number of outbound flights: BWI: 1\n",
      "0\n",
      "Highest WV: KPVD: 15\n",
      "Highest number of outbound flights: PVD: 5\n",
      "5\n"
     ]
    }
   ],
   "source": [
    "\n",
    "print(f\"Highest number of inbound flights: {max(flights_in)}: {max(flights_in.values())}\")\n",
    "print(f\"Highest number of outbound flights: {max(flights_out)}: {max(flights_out.values())}\")\n",
    "print(wind_velocities[f\"K{max(flights_in)}\"])\n",
    "\n",
    "print(f\"Highest number of inbound flights: {min(flights_in)}: {min(flights_in.values())}\")\n",
    "print(f\"Highest number of outbound flights: {min(flights_out)}: {min(flights_out.values())}\")\n",
    "print(wind_velocities[f\"K{min(flights_in)}\"])\n",
    "\n",
    "print(f\"Highest WV: {max(wind_velocities)}: {max(wind_velocities.values())}\")\n",
    "print(f\"Highest number of outbound flights: {max(flights_out)}: {max(flights_out.values())}\")\n",
    "print(wind_velocities[f\"K{max(flights_in)}\"])\n",
    "\n"
   ]
  }
 ],
 "metadata": {
  "interpreter": {
   "hash": "82f97f20bca9d76ec0b96a22dabc0cceddf6e5dcbc5634ba1f292834cf98c394"
  },
  "kernelspec": {
   "display_name": "Python 3.9.7 64-bit",
   "language": "python",
   "name": "python3"
  },
  "language_info": {
   "codemirror_mode": {
    "name": "ipython",
    "version": 3
   },
   "file_extension": ".py",
   "mimetype": "text/x-python",
   "name": "python",
   "nbconvert_exporter": "python",
   "pygments_lexer": "ipython3",
   "version": "3.9.7"
  },
  "orig_nbformat": 4
 },
 "nbformat": 4,
 "nbformat_minor": 2
}
