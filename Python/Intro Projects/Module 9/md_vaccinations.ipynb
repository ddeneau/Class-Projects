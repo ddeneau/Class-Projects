{
 "cells": [
  {
   "cell_type": "markdown",
   "metadata": {},
   "source": [
    "# Assignment 9\n",
    "\n",
    "This notebook analyzes vaccination data from the maryland deptartment of health.\n",
    "\n",
    "Source: https://coronavirus.maryland.gov/datasets/md-covid19-totalvaccinationscountyfirstandsecondsingledose"
   ]
  },
  {
   "cell_type": "code",
   "execution_count": 18,
   "metadata": {},
   "outputs": [
    {
     "name": "stdout",
     "output_type": "stream",
     "text": [
      "<class 'pandas.core.frame.DataFrame'>\n",
      "RangeIndex: 8327 entries, 0 to 8326\n",
      "Data columns (total 13 columns):\n",
      " #   Column                    Non-Null Count  Dtype              \n",
      "---  ------                    --------------  -----              \n",
      " 0   OBJECTID                  8327 non-null   int64              \n",
      " 1   VACCINATION_DATE          8327 non-null   datetime64[ns, UTC]\n",
      " 2   County                    8129 non-null   object             \n",
      " 3   FirstDoseDaily            8293 non-null   float64            \n",
      " 4   FirstDoseCumulative       8327 non-null   int64              \n",
      " 5   SecondDoseDaily           7951 non-null   float64            \n",
      " 6   SecondDoseCumulative      8327 non-null   int64              \n",
      " 7   SingleDoseDaily           5471 non-null   float64            \n",
      " 8   SingleDoseCumulative      8327 non-null   int64              \n",
      " 9   AtLeastOneDose            5464 non-null   float64            \n",
      " 10  FullyVaccinated           5466 non-null   float64            \n",
      " 11  FullVaccinatedCumulative  8327 non-null   int64              \n",
      " 12  AtLeastOneDoseCumulative  8327 non-null   int64              \n",
      "dtypes: datetime64[ns, UTC](1), float64(5), int64(6), object(1)\n",
      "memory usage: 845.8+ KB\n"
     ]
    }
   ],
   "source": [
    "import pandas\n",
    "\n",
    "data_frame = pandas.read_csv('MD_COVID19_TotalVaccinationsCountyFirstandSecondSingleDose.csv', parse_dates=['VACCINATION_DATE'])\n",
    "data_frame.info()\n"
   ]
  },
  {
   "cell_type": "markdown",
   "metadata": {},
   "source": [
    "The names of some columns are changed to make the headers more readible."
   ]
  },
  {
   "cell_type": "code",
   "execution_count": 19,
   "metadata": {},
   "outputs": [
    {
     "data": {
      "text/html": [
       "<div>\n",
       "<style scoped>\n",
       "    .dataframe tbody tr th:only-of-type {\n",
       "        vertical-align: middle;\n",
       "    }\n",
       "\n",
       "    .dataframe tbody tr th {\n",
       "        vertical-align: top;\n",
       "    }\n",
       "\n",
       "    .dataframe thead th {\n",
       "        text-align: right;\n",
       "    }\n",
       "</style>\n",
       "<table border=\"1\" class=\"dataframe\">\n",
       "  <thead>\n",
       "    <tr style=\"text-align: right;\">\n",
       "      <th></th>\n",
       "      <th>ObjectID</th>\n",
       "      <th>VaccinationDate</th>\n",
       "      <th>County</th>\n",
       "      <th>FirstDoseDaily</th>\n",
       "      <th>FirstDoseCumulative</th>\n",
       "      <th>SecondDoseDaily</th>\n",
       "      <th>SecondDoseCumulative</th>\n",
       "      <th>SingleDoseDaily</th>\n",
       "      <th>SingleDoseCumulative</th>\n",
       "      <th>AtLeastOneDose</th>\n",
       "      <th>FullyVaccinated</th>\n",
       "      <th>FullVaccinatedCumulative</th>\n",
       "      <th>AtLeastOneDoseCumulative</th>\n",
       "    </tr>\n",
       "  </thead>\n",
       "  <tbody>\n",
       "    <tr>\n",
       "      <th>0</th>\n",
       "      <td>1</td>\n",
       "      <td>2021-01-08 15:00:00+00:00</td>\n",
       "      <td>NaN</td>\n",
       "      <td>8000.0</td>\n",
       "      <td>8000</td>\n",
       "      <td>NaN</td>\n",
       "      <td>0</td>\n",
       "      <td>NaN</td>\n",
       "      <td>0</td>\n",
       "      <td>NaN</td>\n",
       "      <td>NaN</td>\n",
       "      <td>0</td>\n",
       "      <td>8000</td>\n",
       "    </tr>\n",
       "    <tr>\n",
       "      <th>1</th>\n",
       "      <td>2</td>\n",
       "      <td>2021-01-10 15:00:00+00:00</td>\n",
       "      <td>NaN</td>\n",
       "      <td>1.0</td>\n",
       "      <td>8001</td>\n",
       "      <td>NaN</td>\n",
       "      <td>0</td>\n",
       "      <td>NaN</td>\n",
       "      <td>0</td>\n",
       "      <td>NaN</td>\n",
       "      <td>NaN</td>\n",
       "      <td>0</td>\n",
       "      <td>8001</td>\n",
       "    </tr>\n",
       "    <tr>\n",
       "      <th>2</th>\n",
       "      <td>3</td>\n",
       "      <td>2021-01-13 15:00:00+00:00</td>\n",
       "      <td>NaN</td>\n",
       "      <td>1.0</td>\n",
       "      <td>8002</td>\n",
       "      <td>NaN</td>\n",
       "      <td>0</td>\n",
       "      <td>NaN</td>\n",
       "      <td>0</td>\n",
       "      <td>NaN</td>\n",
       "      <td>NaN</td>\n",
       "      <td>0</td>\n",
       "      <td>8002</td>\n",
       "    </tr>\n",
       "    <tr>\n",
       "      <th>3</th>\n",
       "      <td>4</td>\n",
       "      <td>2021-01-22 15:00:00+00:00</td>\n",
       "      <td>NaN</td>\n",
       "      <td>1.0</td>\n",
       "      <td>8003</td>\n",
       "      <td>NaN</td>\n",
       "      <td>0</td>\n",
       "      <td>NaN</td>\n",
       "      <td>0</td>\n",
       "      <td>NaN</td>\n",
       "      <td>NaN</td>\n",
       "      <td>0</td>\n",
       "      <td>8003</td>\n",
       "    </tr>\n",
       "    <tr>\n",
       "      <th>4</th>\n",
       "      <td>5</td>\n",
       "      <td>2021-01-26 15:00:00+00:00</td>\n",
       "      <td>NaN</td>\n",
       "      <td>1.0</td>\n",
       "      <td>8004</td>\n",
       "      <td>NaN</td>\n",
       "      <td>0</td>\n",
       "      <td>NaN</td>\n",
       "      <td>0</td>\n",
       "      <td>NaN</td>\n",
       "      <td>NaN</td>\n",
       "      <td>0</td>\n",
       "      <td>8004</td>\n",
       "    </tr>\n",
       "    <tr>\n",
       "      <th>...</th>\n",
       "      <td>...</td>\n",
       "      <td>...</td>\n",
       "      <td>...</td>\n",
       "      <td>...</td>\n",
       "      <td>...</td>\n",
       "      <td>...</td>\n",
       "      <td>...</td>\n",
       "      <td>...</td>\n",
       "      <td>...</td>\n",
       "      <td>...</td>\n",
       "      <td>...</td>\n",
       "      <td>...</td>\n",
       "      <td>...</td>\n",
       "    </tr>\n",
       "    <tr>\n",
       "      <th>8322</th>\n",
       "      <td>8323</td>\n",
       "      <td>2021-11-02 15:00:00+00:00</td>\n",
       "      <td>Prince George's                               ...</td>\n",
       "      <td>693.0</td>\n",
       "      <td>537555</td>\n",
       "      <td>800.0</td>\n",
       "      <td>481950</td>\n",
       "      <td>29.0</td>\n",
       "      <td>30859</td>\n",
       "      <td>722.0</td>\n",
       "      <td>829.0</td>\n",
       "      <td>512809</td>\n",
       "      <td>568414</td>\n",
       "    </tr>\n",
       "    <tr>\n",
       "      <th>8323</th>\n",
       "      <td>8324</td>\n",
       "      <td>2021-11-03 15:00:00+00:00</td>\n",
       "      <td>Prince George's                               ...</td>\n",
       "      <td>626.0</td>\n",
       "      <td>538181</td>\n",
       "      <td>705.0</td>\n",
       "      <td>482655</td>\n",
       "      <td>41.0</td>\n",
       "      <td>30900</td>\n",
       "      <td>667.0</td>\n",
       "      <td>746.0</td>\n",
       "      <td>513555</td>\n",
       "      <td>569081</td>\n",
       "    </tr>\n",
       "    <tr>\n",
       "      <th>8324</th>\n",
       "      <td>8325</td>\n",
       "      <td>2021-11-04 15:00:00+00:00</td>\n",
       "      <td>Prince George's                               ...</td>\n",
       "      <td>515.0</td>\n",
       "      <td>538696</td>\n",
       "      <td>791.0</td>\n",
       "      <td>483446</td>\n",
       "      <td>18.0</td>\n",
       "      <td>30918</td>\n",
       "      <td>533.0</td>\n",
       "      <td>809.0</td>\n",
       "      <td>514364</td>\n",
       "      <td>569614</td>\n",
       "    </tr>\n",
       "    <tr>\n",
       "      <th>8325</th>\n",
       "      <td>8326</td>\n",
       "      <td>2021-11-05 15:00:00+00:00</td>\n",
       "      <td>Prince George's                               ...</td>\n",
       "      <td>679.0</td>\n",
       "      <td>539375</td>\n",
       "      <td>826.0</td>\n",
       "      <td>484272</td>\n",
       "      <td>42.0</td>\n",
       "      <td>30960</td>\n",
       "      <td>721.0</td>\n",
       "      <td>868.0</td>\n",
       "      <td>515232</td>\n",
       "      <td>570335</td>\n",
       "    </tr>\n",
       "    <tr>\n",
       "      <th>8326</th>\n",
       "      <td>8327</td>\n",
       "      <td>2021-11-06 15:00:00+00:00</td>\n",
       "      <td>Prince George's                               ...</td>\n",
       "      <td>143.0</td>\n",
       "      <td>539518</td>\n",
       "      <td>205.0</td>\n",
       "      <td>484477</td>\n",
       "      <td>15.0</td>\n",
       "      <td>30975</td>\n",
       "      <td>158.0</td>\n",
       "      <td>220.0</td>\n",
       "      <td>515452</td>\n",
       "      <td>570493</td>\n",
       "    </tr>\n",
       "  </tbody>\n",
       "</table>\n",
       "<p>8327 rows × 13 columns</p>\n",
       "</div>"
      ],
      "text/plain": [
       "      ObjectID           VaccinationDate  \\\n",
       "0            1 2021-01-08 15:00:00+00:00   \n",
       "1            2 2021-01-10 15:00:00+00:00   \n",
       "2            3 2021-01-13 15:00:00+00:00   \n",
       "3            4 2021-01-22 15:00:00+00:00   \n",
       "4            5 2021-01-26 15:00:00+00:00   \n",
       "...        ...                       ...   \n",
       "8322      8323 2021-11-02 15:00:00+00:00   \n",
       "8323      8324 2021-11-03 15:00:00+00:00   \n",
       "8324      8325 2021-11-04 15:00:00+00:00   \n",
       "8325      8326 2021-11-05 15:00:00+00:00   \n",
       "8326      8327 2021-11-06 15:00:00+00:00   \n",
       "\n",
       "                                                 County  FirstDoseDaily  \\\n",
       "0                                                   NaN          8000.0   \n",
       "1                                                   NaN             1.0   \n",
       "2                                                   NaN             1.0   \n",
       "3                                                   NaN             1.0   \n",
       "4                                                   NaN             1.0   \n",
       "...                                                 ...             ...   \n",
       "8322  Prince George's                               ...           693.0   \n",
       "8323  Prince George's                               ...           626.0   \n",
       "8324  Prince George's                               ...           515.0   \n",
       "8325  Prince George's                               ...           679.0   \n",
       "8326  Prince George's                               ...           143.0   \n",
       "\n",
       "      FirstDoseCumulative  SecondDoseDaily  SecondDoseCumulative  \\\n",
       "0                    8000              NaN                     0   \n",
       "1                    8001              NaN                     0   \n",
       "2                    8002              NaN                     0   \n",
       "3                    8003              NaN                     0   \n",
       "4                    8004              NaN                     0   \n",
       "...                   ...              ...                   ...   \n",
       "8322               537555            800.0                481950   \n",
       "8323               538181            705.0                482655   \n",
       "8324               538696            791.0                483446   \n",
       "8325               539375            826.0                484272   \n",
       "8326               539518            205.0                484477   \n",
       "\n",
       "      SingleDoseDaily  SingleDoseCumulative  AtLeastOneDose  FullyVaccinated  \\\n",
       "0                 NaN                     0             NaN              NaN   \n",
       "1                 NaN                     0             NaN              NaN   \n",
       "2                 NaN                     0             NaN              NaN   \n",
       "3                 NaN                     0             NaN              NaN   \n",
       "4                 NaN                     0             NaN              NaN   \n",
       "...               ...                   ...             ...              ...   \n",
       "8322             29.0                 30859           722.0            829.0   \n",
       "8323             41.0                 30900           667.0            746.0   \n",
       "8324             18.0                 30918           533.0            809.0   \n",
       "8325             42.0                 30960           721.0            868.0   \n",
       "8326             15.0                 30975           158.0            220.0   \n",
       "\n",
       "      FullVaccinatedCumulative  AtLeastOneDoseCumulative  \n",
       "0                            0                      8000  \n",
       "1                            0                      8001  \n",
       "2                            0                      8002  \n",
       "3                            0                      8003  \n",
       "4                            0                      8004  \n",
       "...                        ...                       ...  \n",
       "8322                    512809                    568414  \n",
       "8323                    513555                    569081  \n",
       "8324                    514364                    569614  \n",
       "8325                    515232                    570335  \n",
       "8326                    515452                    570493  \n",
       "\n",
       "[8327 rows x 13 columns]"
      ]
     },
     "execution_count": 19,
     "metadata": {},
     "output_type": "execute_result"
    }
   ],
   "source": [
    "\n",
    "data_frame = data_frame.rename(columns={\"OBJECTID\": \"ObjectID\", \"VACCINATION_DATE\": \"VaccinationDate\"})\n",
    "data_frame"
   ]
  },
  {
   "cell_type": "markdown",
   "metadata": {},
   "source": [
    "A new column is initialized as the sum of two already existing columns (Total cumulative doses)."
   ]
  },
  {
   "cell_type": "code",
   "execution_count": 20,
   "metadata": {},
   "outputs": [
    {
     "data": {
      "text/html": [
       "<div>\n",
       "<style scoped>\n",
       "    .dataframe tbody tr th:only-of-type {\n",
       "        vertical-align: middle;\n",
       "    }\n",
       "\n",
       "    .dataframe tbody tr th {\n",
       "        vertical-align: top;\n",
       "    }\n",
       "\n",
       "    .dataframe thead th {\n",
       "        text-align: right;\n",
       "    }\n",
       "</style>\n",
       "<table border=\"1\" class=\"dataframe\">\n",
       "  <thead>\n",
       "    <tr style=\"text-align: right;\">\n",
       "      <th></th>\n",
       "      <th>ObjectID</th>\n",
       "      <th>VaccinationDate</th>\n",
       "      <th>County</th>\n",
       "      <th>FirstDoseDaily</th>\n",
       "      <th>FirstDoseCumulative</th>\n",
       "      <th>SecondDoseDaily</th>\n",
       "      <th>SecondDoseCumulative</th>\n",
       "      <th>SingleDoseDaily</th>\n",
       "      <th>SingleDoseCumulative</th>\n",
       "      <th>AtLeastOneDose</th>\n",
       "      <th>FullyVaccinated</th>\n",
       "      <th>FullVaccinatedCumulative</th>\n",
       "      <th>AtLeastOneDoseCumulative</th>\n",
       "      <th>TotalCumulative</th>\n",
       "    </tr>\n",
       "  </thead>\n",
       "  <tbody>\n",
       "    <tr>\n",
       "      <th>0</th>\n",
       "      <td>1</td>\n",
       "      <td>2021-01-08 15:00:00+00:00</td>\n",
       "      <td>NaN</td>\n",
       "      <td>8000.0</td>\n",
       "      <td>8000</td>\n",
       "      <td>NaN</td>\n",
       "      <td>0</td>\n",
       "      <td>NaN</td>\n",
       "      <td>0</td>\n",
       "      <td>NaN</td>\n",
       "      <td>NaN</td>\n",
       "      <td>0</td>\n",
       "      <td>8000</td>\n",
       "      <td>8000</td>\n",
       "    </tr>\n",
       "    <tr>\n",
       "      <th>1</th>\n",
       "      <td>2</td>\n",
       "      <td>2021-01-10 15:00:00+00:00</td>\n",
       "      <td>NaN</td>\n",
       "      <td>1.0</td>\n",
       "      <td>8001</td>\n",
       "      <td>NaN</td>\n",
       "      <td>0</td>\n",
       "      <td>NaN</td>\n",
       "      <td>0</td>\n",
       "      <td>NaN</td>\n",
       "      <td>NaN</td>\n",
       "      <td>0</td>\n",
       "      <td>8001</td>\n",
       "      <td>8001</td>\n",
       "    </tr>\n",
       "    <tr>\n",
       "      <th>2</th>\n",
       "      <td>3</td>\n",
       "      <td>2021-01-13 15:00:00+00:00</td>\n",
       "      <td>NaN</td>\n",
       "      <td>1.0</td>\n",
       "      <td>8002</td>\n",
       "      <td>NaN</td>\n",
       "      <td>0</td>\n",
       "      <td>NaN</td>\n",
       "      <td>0</td>\n",
       "      <td>NaN</td>\n",
       "      <td>NaN</td>\n",
       "      <td>0</td>\n",
       "      <td>8002</td>\n",
       "      <td>8002</td>\n",
       "    </tr>\n",
       "    <tr>\n",
       "      <th>3</th>\n",
       "      <td>4</td>\n",
       "      <td>2021-01-22 15:00:00+00:00</td>\n",
       "      <td>NaN</td>\n",
       "      <td>1.0</td>\n",
       "      <td>8003</td>\n",
       "      <td>NaN</td>\n",
       "      <td>0</td>\n",
       "      <td>NaN</td>\n",
       "      <td>0</td>\n",
       "      <td>NaN</td>\n",
       "      <td>NaN</td>\n",
       "      <td>0</td>\n",
       "      <td>8003</td>\n",
       "      <td>8003</td>\n",
       "    </tr>\n",
       "    <tr>\n",
       "      <th>4</th>\n",
       "      <td>5</td>\n",
       "      <td>2021-01-26 15:00:00+00:00</td>\n",
       "      <td>NaN</td>\n",
       "      <td>1.0</td>\n",
       "      <td>8004</td>\n",
       "      <td>NaN</td>\n",
       "      <td>0</td>\n",
       "      <td>NaN</td>\n",
       "      <td>0</td>\n",
       "      <td>NaN</td>\n",
       "      <td>NaN</td>\n",
       "      <td>0</td>\n",
       "      <td>8004</td>\n",
       "      <td>8004</td>\n",
       "    </tr>\n",
       "    <tr>\n",
       "      <th>...</th>\n",
       "      <td>...</td>\n",
       "      <td>...</td>\n",
       "      <td>...</td>\n",
       "      <td>...</td>\n",
       "      <td>...</td>\n",
       "      <td>...</td>\n",
       "      <td>...</td>\n",
       "      <td>...</td>\n",
       "      <td>...</td>\n",
       "      <td>...</td>\n",
       "      <td>...</td>\n",
       "      <td>...</td>\n",
       "      <td>...</td>\n",
       "      <td>...</td>\n",
       "    </tr>\n",
       "    <tr>\n",
       "      <th>8322</th>\n",
       "      <td>8323</td>\n",
       "      <td>2021-11-02 15:00:00+00:00</td>\n",
       "      <td>Prince George's                               ...</td>\n",
       "      <td>693.0</td>\n",
       "      <td>537555</td>\n",
       "      <td>800.0</td>\n",
       "      <td>481950</td>\n",
       "      <td>29.0</td>\n",
       "      <td>30859</td>\n",
       "      <td>722.0</td>\n",
       "      <td>829.0</td>\n",
       "      <td>512809</td>\n",
       "      <td>568414</td>\n",
       "      <td>1019505</td>\n",
       "    </tr>\n",
       "    <tr>\n",
       "      <th>8323</th>\n",
       "      <td>8324</td>\n",
       "      <td>2021-11-03 15:00:00+00:00</td>\n",
       "      <td>Prince George's                               ...</td>\n",
       "      <td>626.0</td>\n",
       "      <td>538181</td>\n",
       "      <td>705.0</td>\n",
       "      <td>482655</td>\n",
       "      <td>41.0</td>\n",
       "      <td>30900</td>\n",
       "      <td>667.0</td>\n",
       "      <td>746.0</td>\n",
       "      <td>513555</td>\n",
       "      <td>569081</td>\n",
       "      <td>1020836</td>\n",
       "    </tr>\n",
       "    <tr>\n",
       "      <th>8324</th>\n",
       "      <td>8325</td>\n",
       "      <td>2021-11-04 15:00:00+00:00</td>\n",
       "      <td>Prince George's                               ...</td>\n",
       "      <td>515.0</td>\n",
       "      <td>538696</td>\n",
       "      <td>791.0</td>\n",
       "      <td>483446</td>\n",
       "      <td>18.0</td>\n",
       "      <td>30918</td>\n",
       "      <td>533.0</td>\n",
       "      <td>809.0</td>\n",
       "      <td>514364</td>\n",
       "      <td>569614</td>\n",
       "      <td>1022142</td>\n",
       "    </tr>\n",
       "    <tr>\n",
       "      <th>8325</th>\n",
       "      <td>8326</td>\n",
       "      <td>2021-11-05 15:00:00+00:00</td>\n",
       "      <td>Prince George's                               ...</td>\n",
       "      <td>679.0</td>\n",
       "      <td>539375</td>\n",
       "      <td>826.0</td>\n",
       "      <td>484272</td>\n",
       "      <td>42.0</td>\n",
       "      <td>30960</td>\n",
       "      <td>721.0</td>\n",
       "      <td>868.0</td>\n",
       "      <td>515232</td>\n",
       "      <td>570335</td>\n",
       "      <td>1023647</td>\n",
       "    </tr>\n",
       "    <tr>\n",
       "      <th>8326</th>\n",
       "      <td>8327</td>\n",
       "      <td>2021-11-06 15:00:00+00:00</td>\n",
       "      <td>Prince George's                               ...</td>\n",
       "      <td>143.0</td>\n",
       "      <td>539518</td>\n",
       "      <td>205.0</td>\n",
       "      <td>484477</td>\n",
       "      <td>15.0</td>\n",
       "      <td>30975</td>\n",
       "      <td>158.0</td>\n",
       "      <td>220.0</td>\n",
       "      <td>515452</td>\n",
       "      <td>570493</td>\n",
       "      <td>1023995</td>\n",
       "    </tr>\n",
       "  </tbody>\n",
       "</table>\n",
       "<p>8327 rows × 14 columns</p>\n",
       "</div>"
      ],
      "text/plain": [
       "      ObjectID           VaccinationDate  \\\n",
       "0            1 2021-01-08 15:00:00+00:00   \n",
       "1            2 2021-01-10 15:00:00+00:00   \n",
       "2            3 2021-01-13 15:00:00+00:00   \n",
       "3            4 2021-01-22 15:00:00+00:00   \n",
       "4            5 2021-01-26 15:00:00+00:00   \n",
       "...        ...                       ...   \n",
       "8322      8323 2021-11-02 15:00:00+00:00   \n",
       "8323      8324 2021-11-03 15:00:00+00:00   \n",
       "8324      8325 2021-11-04 15:00:00+00:00   \n",
       "8325      8326 2021-11-05 15:00:00+00:00   \n",
       "8326      8327 2021-11-06 15:00:00+00:00   \n",
       "\n",
       "                                                 County  FirstDoseDaily  \\\n",
       "0                                                   NaN          8000.0   \n",
       "1                                                   NaN             1.0   \n",
       "2                                                   NaN             1.0   \n",
       "3                                                   NaN             1.0   \n",
       "4                                                   NaN             1.0   \n",
       "...                                                 ...             ...   \n",
       "8322  Prince George's                               ...           693.0   \n",
       "8323  Prince George's                               ...           626.0   \n",
       "8324  Prince George's                               ...           515.0   \n",
       "8325  Prince George's                               ...           679.0   \n",
       "8326  Prince George's                               ...           143.0   \n",
       "\n",
       "      FirstDoseCumulative  SecondDoseDaily  SecondDoseCumulative  \\\n",
       "0                    8000              NaN                     0   \n",
       "1                    8001              NaN                     0   \n",
       "2                    8002              NaN                     0   \n",
       "3                    8003              NaN                     0   \n",
       "4                    8004              NaN                     0   \n",
       "...                   ...              ...                   ...   \n",
       "8322               537555            800.0                481950   \n",
       "8323               538181            705.0                482655   \n",
       "8324               538696            791.0                483446   \n",
       "8325               539375            826.0                484272   \n",
       "8326               539518            205.0                484477   \n",
       "\n",
       "      SingleDoseDaily  SingleDoseCumulative  AtLeastOneDose  FullyVaccinated  \\\n",
       "0                 NaN                     0             NaN              NaN   \n",
       "1                 NaN                     0             NaN              NaN   \n",
       "2                 NaN                     0             NaN              NaN   \n",
       "3                 NaN                     0             NaN              NaN   \n",
       "4                 NaN                     0             NaN              NaN   \n",
       "...               ...                   ...             ...              ...   \n",
       "8322             29.0                 30859           722.0            829.0   \n",
       "8323             41.0                 30900           667.0            746.0   \n",
       "8324             18.0                 30918           533.0            809.0   \n",
       "8325             42.0                 30960           721.0            868.0   \n",
       "8326             15.0                 30975           158.0            220.0   \n",
       "\n",
       "      FullVaccinatedCumulative  AtLeastOneDoseCumulative  TotalCumulative  \n",
       "0                            0                      8000             8000  \n",
       "1                            0                      8001             8001  \n",
       "2                            0                      8002             8002  \n",
       "3                            0                      8003             8003  \n",
       "4                            0                      8004             8004  \n",
       "...                        ...                       ...              ...  \n",
       "8322                    512809                    568414          1019505  \n",
       "8323                    513555                    569081          1020836  \n",
       "8324                    514364                    569614          1022142  \n",
       "8325                    515232                    570335          1023647  \n",
       "8326                    515452                    570493          1023995  \n",
       "\n",
       "[8327 rows x 14 columns]"
      ]
     },
     "execution_count": 20,
     "metadata": {},
     "output_type": "execute_result"
    }
   ],
   "source": [
    "data_frame['TotalCumulative'] = data_frame['FirstDoseCumulative'] + data_frame['SecondDoseCumulative']\n",
    "data_frame"
   ]
  },
  {
   "cell_type": "markdown",
   "metadata": {},
   "source": [
    "A subset of data is created for Prince Georges County."
   ]
  },
  {
   "cell_type": "code",
   "execution_count": 21,
   "metadata": {},
   "outputs": [
    {
     "name": "stdout",
     "output_type": "stream",
     "text": [
      "<class 'pandas.core.frame.DataFrame'>\n",
      "Int64Index: 328 entries, 7771 to 8326\n",
      "Data columns (total 14 columns):\n",
      " #   Column                    Non-Null Count  Dtype              \n",
      "---  ------                    --------------  -----              \n",
      " 0   ObjectID                  328 non-null    int64              \n",
      " 1   VaccinationDate           328 non-null    datetime64[ns, UTC]\n",
      " 2   County                    328 non-null    object             \n",
      " 3   FirstDoseDaily            328 non-null    float64            \n",
      " 4   FirstDoseCumulative       328 non-null    int64              \n",
      " 5   SecondDoseDaily           316 non-null    float64            \n",
      " 6   SecondDoseCumulative      328 non-null    int64              \n",
      " 7   SingleDoseDaily           246 non-null    float64            \n",
      " 8   SingleDoseCumulative      328 non-null    int64              \n",
      " 9   AtLeastOneDose            246 non-null    float64            \n",
      " 10  FullyVaccinated           246 non-null    float64            \n",
      " 11  FullVaccinatedCumulative  328 non-null    int64              \n",
      " 12  AtLeastOneDoseCumulative  328 non-null    int64              \n",
      " 13  TotalCumulative           328 non-null    int64              \n",
      "dtypes: datetime64[ns, UTC](1), float64(5), int64(7), object(1)\n",
      "memory usage: 38.4+ KB\n"
     ]
    }
   ],
   "source": [
    "data_frame['County'] = data_frame['County'].str.strip()\n",
    "pg_data_frame = data_frame[data_frame['County'] == \"Prince George's\"] \n",
    "pg_data_frame.info()"
   ]
  },
  {
   "cell_type": "markdown",
   "metadata": {},
   "source": [
    "Plotly is used to graph total cumulative vaccinations as a function of time."
   ]
  },
  {
   "cell_type": "code",
   "execution_count": 22,
   "metadata": {},
   "outputs": [
    {
     "data": {
      "application/vnd.plotly.v1+json": {
       "config": {
        "plotlyServerURL": "https://plot.ly"
       },
       "data": [
        {
         "hovertemplate": "VaccinationDate=%{x}<br>TotalCumulative=%{y}<extra></extra>",
         "legendgroup": "",
         "line": {
          "color": "#636efa",
          "dash": "solid"
         },
         "marker": {
          "symbol": "circle"
         },
         "mode": "lines",
         "name": "",
         "orientation": "v",
         "showlegend": false,
         "type": "scatter",
         "x": [
          "2020-12-14T15:00:00+00:00",
          "2020-12-15T15:00:00+00:00",
          "2020-12-16T15:00:00+00:00",
          "2020-12-17T15:00:00+00:00",
          "2020-12-18T15:00:00+00:00",
          "2020-12-19T15:00:00+00:00",
          "2020-12-20T15:00:00+00:00",
          "2020-12-21T15:00:00+00:00",
          "2020-12-22T15:00:00+00:00",
          "2020-12-23T15:00:00+00:00",
          "2020-12-24T15:00:00+00:00",
          "2020-12-25T15:00:00+00:00",
          "2020-12-26T15:00:00+00:00",
          "2020-12-27T15:00:00+00:00",
          "2020-12-28T15:00:00+00:00",
          "2020-12-29T15:00:00+00:00",
          "2020-12-30T15:00:00+00:00",
          "2020-12-31T15:00:00+00:00",
          "2021-01-01T15:00:00+00:00",
          "2021-01-02T15:00:00+00:00",
          "2021-01-03T15:00:00+00:00",
          "2021-01-04T15:00:00+00:00",
          "2021-01-05T15:00:00+00:00",
          "2021-01-06T15:00:00+00:00",
          "2021-01-07T15:00:00+00:00",
          "2021-01-08T15:00:00+00:00",
          "2021-01-09T15:00:00+00:00",
          "2021-01-10T15:00:00+00:00",
          "2021-01-11T15:00:00+00:00",
          "2021-01-12T15:00:00+00:00",
          "2021-01-13T15:00:00+00:00",
          "2021-01-14T15:00:00+00:00",
          "2021-01-15T15:00:00+00:00",
          "2021-01-16T15:00:00+00:00",
          "2021-01-17T15:00:00+00:00",
          "2021-01-18T15:00:00+00:00",
          "2021-01-19T15:00:00+00:00",
          "2021-01-20T15:00:00+00:00",
          "2021-01-21T15:00:00+00:00",
          "2021-01-22T15:00:00+00:00",
          "2021-01-23T15:00:00+00:00",
          "2021-01-24T15:00:00+00:00",
          "2021-01-25T15:00:00+00:00",
          "2021-01-26T15:00:00+00:00",
          "2021-01-27T15:00:00+00:00",
          "2021-01-28T15:00:00+00:00",
          "2021-01-29T15:00:00+00:00",
          "2021-01-30T15:00:00+00:00",
          "2021-01-31T15:00:00+00:00",
          "2021-02-01T15:00:00+00:00",
          "2021-02-02T15:00:00+00:00",
          "2021-02-03T15:00:00+00:00",
          "2021-02-04T15:00:00+00:00",
          "2021-02-05T15:00:00+00:00",
          "2021-02-06T15:00:00+00:00",
          "2021-02-07T15:00:00+00:00",
          "2021-02-08T15:00:00+00:00",
          "2021-02-09T15:00:00+00:00",
          "2021-02-10T15:00:00+00:00",
          "2021-02-11T15:00:00+00:00",
          "2021-02-12T15:00:00+00:00",
          "2021-02-13T15:00:00+00:00",
          "2021-02-14T15:00:00+00:00",
          "2021-02-15T15:00:00+00:00",
          "2021-02-16T15:00:00+00:00",
          "2021-02-17T15:00:00+00:00",
          "2021-02-18T15:00:00+00:00",
          "2021-02-19T15:00:00+00:00",
          "2021-02-20T15:00:00+00:00",
          "2021-02-21T15:00:00+00:00",
          "2021-02-22T15:00:00+00:00",
          "2021-02-23T15:00:00+00:00",
          "2021-02-24T15:00:00+00:00",
          "2021-02-25T15:00:00+00:00",
          "2021-02-26T15:00:00+00:00",
          "2021-02-27T15:00:00+00:00",
          "2021-02-28T15:00:00+00:00",
          "2021-03-01T15:00:00+00:00",
          "2021-03-02T15:00:00+00:00",
          "2021-03-03T15:00:00+00:00",
          "2021-03-04T15:00:00+00:00",
          "2021-03-05T15:00:00+00:00",
          "2021-03-06T15:00:00+00:00",
          "2021-03-07T15:00:00+00:00",
          "2021-03-08T15:00:00+00:00",
          "2021-03-09T15:00:00+00:00",
          "2021-03-10T15:00:00+00:00",
          "2021-03-11T15:00:00+00:00",
          "2021-03-12T15:00:00+00:00",
          "2021-03-13T15:00:00+00:00",
          "2021-03-14T15:00:00+00:00",
          "2021-03-15T15:00:00+00:00",
          "2021-03-16T15:00:00+00:00",
          "2021-03-17T15:00:00+00:00",
          "2021-03-18T15:00:00+00:00",
          "2021-03-19T15:00:00+00:00",
          "2021-03-20T15:00:00+00:00",
          "2021-03-21T15:00:00+00:00",
          "2021-03-22T15:00:00+00:00",
          "2021-03-23T15:00:00+00:00",
          "2021-03-24T15:00:00+00:00",
          "2021-03-25T15:00:00+00:00",
          "2021-03-26T15:00:00+00:00",
          "2021-03-27T15:00:00+00:00",
          "2021-03-28T15:00:00+00:00",
          "2021-03-29T15:00:00+00:00",
          "2021-03-30T15:00:00+00:00",
          "2021-03-31T15:00:00+00:00",
          "2021-04-01T15:00:00+00:00",
          "2021-04-02T15:00:00+00:00",
          "2021-04-03T15:00:00+00:00",
          "2021-04-04T15:00:00+00:00",
          "2021-04-05T15:00:00+00:00",
          "2021-04-06T15:00:00+00:00",
          "2021-04-07T15:00:00+00:00",
          "2021-04-08T15:00:00+00:00",
          "2021-04-09T15:00:00+00:00",
          "2021-04-10T15:00:00+00:00",
          "2021-04-11T15:00:00+00:00",
          "2021-04-12T15:00:00+00:00",
          "2021-04-13T15:00:00+00:00",
          "2021-04-14T15:00:00+00:00",
          "2021-04-15T15:00:00+00:00",
          "2021-04-16T15:00:00+00:00",
          "2021-04-17T15:00:00+00:00",
          "2021-04-18T15:00:00+00:00",
          "2021-04-19T15:00:00+00:00",
          "2021-04-20T15:00:00+00:00",
          "2021-04-21T15:00:00+00:00",
          "2021-04-22T15:00:00+00:00",
          "2021-04-23T15:00:00+00:00",
          "2021-04-24T15:00:00+00:00",
          "2021-04-25T15:00:00+00:00",
          "2021-04-26T15:00:00+00:00",
          "2021-04-27T15:00:00+00:00",
          "2021-04-28T15:00:00+00:00",
          "2021-04-29T15:00:00+00:00",
          "2021-04-30T15:00:00+00:00",
          "2021-05-01T15:00:00+00:00",
          "2021-05-02T15:00:00+00:00",
          "2021-05-03T15:00:00+00:00",
          "2021-05-04T15:00:00+00:00",
          "2021-05-05T15:00:00+00:00",
          "2021-05-06T15:00:00+00:00",
          "2021-05-07T15:00:00+00:00",
          "2021-05-08T15:00:00+00:00",
          "2021-05-09T15:00:00+00:00",
          "2021-05-10T15:00:00+00:00",
          "2021-05-11T15:00:00+00:00",
          "2021-05-12T15:00:00+00:00",
          "2021-05-13T15:00:00+00:00",
          "2021-05-14T15:00:00+00:00",
          "2021-05-15T15:00:00+00:00",
          "2021-05-16T15:00:00+00:00",
          "2021-05-17T15:00:00+00:00",
          "2021-05-18T15:00:00+00:00",
          "2021-05-19T15:00:00+00:00",
          "2021-05-20T15:00:00+00:00",
          "2021-05-21T15:00:00+00:00",
          "2021-05-22T15:00:00+00:00",
          "2021-05-23T15:00:00+00:00",
          "2021-05-24T15:00:00+00:00",
          "2021-05-25T15:00:00+00:00",
          "2021-05-26T15:00:00+00:00",
          "2021-05-27T15:00:00+00:00",
          "2021-05-28T15:00:00+00:00",
          "2021-05-29T15:00:00+00:00",
          "2021-05-30T15:00:00+00:00",
          "2021-05-31T15:00:00+00:00",
          "2021-06-01T15:00:00+00:00",
          "2021-06-02T15:00:00+00:00",
          "2021-06-03T15:00:00+00:00",
          "2021-06-04T15:00:00+00:00",
          "2021-06-05T15:00:00+00:00",
          "2021-06-06T15:00:00+00:00",
          "2021-06-07T15:00:00+00:00",
          "2021-06-08T15:00:00+00:00",
          "2021-06-09T15:00:00+00:00",
          "2021-06-10T15:00:00+00:00",
          "2021-06-11T15:00:00+00:00",
          "2021-06-12T15:00:00+00:00",
          "2021-06-13T15:00:00+00:00",
          "2021-06-14T15:00:00+00:00",
          "2021-06-15T15:00:00+00:00",
          "2021-06-16T15:00:00+00:00",
          "2021-06-17T15:00:00+00:00",
          "2021-06-18T15:00:00+00:00",
          "2021-06-19T15:00:00+00:00",
          "2021-06-20T15:00:00+00:00",
          "2021-06-21T15:00:00+00:00",
          "2021-06-22T15:00:00+00:00",
          "2021-06-23T15:00:00+00:00",
          "2021-06-24T15:00:00+00:00",
          "2021-06-25T15:00:00+00:00",
          "2021-06-26T15:00:00+00:00",
          "2021-06-27T15:00:00+00:00",
          "2021-06-28T15:00:00+00:00",
          "2021-06-29T15:00:00+00:00",
          "2021-06-30T15:00:00+00:00",
          "2021-07-01T15:00:00+00:00",
          "2021-07-02T15:00:00+00:00",
          "2021-07-03T15:00:00+00:00",
          "2021-07-04T15:00:00+00:00",
          "2021-07-05T15:00:00+00:00",
          "2021-07-06T15:00:00+00:00",
          "2021-07-07T15:00:00+00:00",
          "2021-07-08T15:00:00+00:00",
          "2021-07-09T15:00:00+00:00",
          "2021-07-10T15:00:00+00:00",
          "2021-07-11T15:00:00+00:00",
          "2021-07-12T15:00:00+00:00",
          "2021-07-13T15:00:00+00:00",
          "2021-07-14T15:00:00+00:00",
          "2021-07-15T15:00:00+00:00",
          "2021-07-16T15:00:00+00:00",
          "2021-07-17T15:00:00+00:00",
          "2021-07-18T15:00:00+00:00",
          "2021-07-19T15:00:00+00:00",
          "2021-07-20T15:00:00+00:00",
          "2021-07-21T15:00:00+00:00",
          "2021-07-22T15:00:00+00:00",
          "2021-07-23T15:00:00+00:00",
          "2021-07-24T15:00:00+00:00",
          "2021-07-25T15:00:00+00:00",
          "2021-07-26T15:00:00+00:00",
          "2021-07-27T15:00:00+00:00",
          "2021-07-28T15:00:00+00:00",
          "2021-07-29T15:00:00+00:00",
          "2021-07-30T15:00:00+00:00",
          "2021-07-31T15:00:00+00:00",
          "2021-08-01T15:00:00+00:00",
          "2021-08-02T15:00:00+00:00",
          "2021-08-03T15:00:00+00:00",
          "2021-08-04T15:00:00+00:00",
          "2021-08-05T15:00:00+00:00",
          "2021-08-06T15:00:00+00:00",
          "2021-08-07T15:00:00+00:00",
          "2021-08-08T15:00:00+00:00",
          "2021-08-09T15:00:00+00:00",
          "2021-08-10T15:00:00+00:00",
          "2021-08-11T15:00:00+00:00",
          "2021-08-12T15:00:00+00:00",
          "2021-08-13T15:00:00+00:00",
          "2021-08-14T15:00:00+00:00",
          "2021-08-15T15:00:00+00:00",
          "2021-08-16T15:00:00+00:00",
          "2021-08-17T15:00:00+00:00",
          "2021-08-18T15:00:00+00:00",
          "2021-08-19T15:00:00+00:00",
          "2021-08-20T15:00:00+00:00",
          "2021-08-21T15:00:00+00:00",
          "2021-08-22T15:00:00+00:00",
          "2021-08-23T15:00:00+00:00",
          "2021-08-24T15:00:00+00:00",
          "2021-08-25T15:00:00+00:00",
          "2021-08-26T15:00:00+00:00",
          "2021-08-27T15:00:00+00:00",
          "2021-08-28T15:00:00+00:00",
          "2021-08-29T15:00:00+00:00",
          "2021-08-30T15:00:00+00:00",
          "2021-08-31T15:00:00+00:00",
          "2021-09-01T15:00:00+00:00",
          "2021-09-02T15:00:00+00:00",
          "2021-09-03T15:00:00+00:00",
          "2021-09-04T15:00:00+00:00",
          "2021-09-05T15:00:00+00:00",
          "2021-09-06T15:00:00+00:00",
          "2021-09-07T15:00:00+00:00",
          "2021-09-08T15:00:00+00:00",
          "2021-09-09T15:00:00+00:00",
          "2021-09-10T15:00:00+00:00",
          "2021-09-11T15:00:00+00:00",
          "2021-09-12T15:00:00+00:00",
          "2021-09-13T15:00:00+00:00",
          "2021-09-14T15:00:00+00:00",
          "2021-09-15T15:00:00+00:00",
          "2021-09-16T15:00:00+00:00",
          "2021-09-17T15:00:00+00:00",
          "2021-09-18T15:00:00+00:00",
          "2021-09-19T15:00:00+00:00",
          "2021-09-20T15:00:00+00:00",
          "2021-09-21T15:00:00+00:00",
          "2021-09-22T15:00:00+00:00",
          "2021-09-23T15:00:00+00:00",
          "2021-09-24T15:00:00+00:00",
          "2021-09-25T15:00:00+00:00",
          "2021-09-26T15:00:00+00:00",
          "2021-09-27T15:00:00+00:00",
          "2021-09-28T15:00:00+00:00",
          "2021-09-29T15:00:00+00:00",
          "2021-09-30T15:00:00+00:00",
          "2021-10-01T15:00:00+00:00",
          "2021-10-02T15:00:00+00:00",
          "2021-10-03T15:00:00+00:00",
          "2021-10-04T15:00:00+00:00",
          "2021-10-05T15:00:00+00:00",
          "2021-10-06T15:00:00+00:00",
          "2021-10-07T15:00:00+00:00",
          "2021-10-08T15:00:00+00:00",
          "2021-10-09T15:00:00+00:00",
          "2021-10-10T15:00:00+00:00",
          "2021-10-11T15:00:00+00:00",
          "2021-10-12T15:00:00+00:00",
          "2021-10-13T15:00:00+00:00",
          "2021-10-14T15:00:00+00:00",
          "2021-10-15T15:00:00+00:00",
          "2021-10-16T15:00:00+00:00",
          "2021-10-17T15:00:00+00:00",
          "2021-10-18T15:00:00+00:00",
          "2021-10-19T15:00:00+00:00",
          "2021-10-20T15:00:00+00:00",
          "2021-10-21T15:00:00+00:00",
          "2021-10-22T15:00:00+00:00",
          "2021-10-23T15:00:00+00:00",
          "2021-10-24T15:00:00+00:00",
          "2021-10-25T15:00:00+00:00",
          "2021-10-26T15:00:00+00:00",
          "2021-10-27T15:00:00+00:00",
          "2021-10-28T15:00:00+00:00",
          "2021-10-29T15:00:00+00:00",
          "2021-10-30T15:00:00+00:00",
          "2021-10-31T15:00:00+00:00",
          "2021-11-01T15:00:00+00:00",
          "2021-11-02T15:00:00+00:00",
          "2021-11-03T15:00:00+00:00",
          "2021-11-04T15:00:00+00:00",
          "2021-11-05T15:00:00+00:00",
          "2021-11-06T15:00:00+00:00"
         ],
         "xaxis": "x",
         "y": [
          1,
          4,
          22,
          43,
          103,
          122,
          136,
          303,
          843,
          1124,
          1318,
          1487,
          1821,
          1923,
          2282,
          2871,
          3316,
          3613,
          3742,
          3975,
          4319,
          5076,
          5637,
          6354,
          7032,
          7992,
          8357,
          8838,
          9669,
          11263,
          12630,
          13802,
          15508,
          16326,
          16566,
          17397,
          18687,
          19872,
          21498,
          23595,
          24468,
          24968,
          26513,
          28607,
          31274,
          33762,
          35783,
          37176,
          38011,
          38940,
          41069,
          43663,
          46233,
          49296,
          50945,
          51980,
          54426,
          56879,
          59951,
          63482,
          67349,
          68757,
          70392,
          72435,
          76204,
          80169,
          80732,
          83157,
          86024,
          87464,
          89675,
          92738,
          95796,
          99875,
          104139,
          107128,
          111342,
          116171,
          120299,
          125318,
          130566,
          135785,
          139487,
          141550,
          145470,
          150289,
          155297,
          161122,
          167095,
          170681,
          173897,
          179794,
          185863,
          192454,
          199438,
          206728,
          211650,
          215171,
          221847,
          228592,
          234873,
          242828,
          250513,
          256744,
          260777,
          270085,
          278629,
          287378,
          295364,
          304381,
          309418,
          311912,
          320615,
          330038,
          340884,
          351419,
          361883,
          368567,
          374163,
          384829,
          395684,
          406482,
          418208,
          429641,
          437542,
          444362,
          454032,
          462954,
          472601,
          480663,
          489939,
          496987,
          501677,
          510880,
          519095,
          529537,
          538316,
          548173,
          555038,
          559676,
          567053,
          574829,
          583503,
          591991,
          600977,
          607444,
          611072,
          617451,
          623234,
          629355,
          635523,
          642579,
          649248,
          653755,
          659773,
          667093,
          674617,
          680704,
          687294,
          692900,
          696208,
          701189,
          706352,
          711528,
          715610,
          720675,
          724414,
          726236,
          727003,
          731853,
          735596,
          739355,
          743721,
          747522,
          749079,
          752109,
          755912,
          760652,
          763957,
          768180,
          772213,
          773811,
          776545,
          780182,
          783398,
          786425,
          789610,
          792184,
          793585,
          795516,
          798045,
          800646,
          802853,
          805427,
          807366,
          808680,
          810626,
          812871,
          815149,
          817072,
          819513,
          821141,
          821258,
          822621,
          824702,
          826780,
          828822,
          831021,
          832664,
          833830,
          835579,
          837486,
          839447,
          841363,
          843280,
          844729,
          845679,
          847420,
          849235,
          850961,
          852673,
          854928,
          856462,
          857439,
          859360,
          861250,
          863242,
          865090,
          867387,
          869005,
          870297,
          872136,
          874178,
          876207,
          878297,
          880618,
          882313,
          883514,
          885458,
          887668,
          889672,
          891584,
          893762,
          895367,
          896617,
          898618,
          901150,
          903458,
          905355,
          907912,
          909383,
          910633,
          912728,
          914921,
          917146,
          919400,
          921769,
          923775,
          925060,
          927175,
          929320,
          931443,
          933504,
          935798,
          937259,
          938481,
          938812,
          941281,
          943175,
          944949,
          947044,
          948520,
          949668,
          951219,
          952934,
          954628,
          956194,
          957878,
          959506,
          960513,
          962011,
          963645,
          965292,
          966900,
          968745,
          970022,
          971056,
          972430,
          974232,
          975875,
          977555,
          979426,
          980484,
          981418,
          982841,
          984321,
          985644,
          986980,
          988644,
          989851,
          990672,
          992086,
          993447,
          994819,
          996187,
          997635,
          998603,
          999203,
          1000763,
          1002017,
          1003256,
          1004494,
          1006115,
          1007102,
          1007796,
          1009290,
          1010724,
          1012097,
          1013420,
          1014922,
          1015862,
          1016528,
          1018012,
          1019505,
          1020836,
          1022142,
          1023647,
          1023995
         ],
         "yaxis": "y"
        }
       ],
       "layout": {
        "legend": {
         "tracegroupgap": 0
        },
        "margin": {
         "t": 60
        },
        "template": {
         "data": {
          "bar": [
           {
            "error_x": {
             "color": "#2a3f5f"
            },
            "error_y": {
             "color": "#2a3f5f"
            },
            "marker": {
             "line": {
              "color": "#E5ECF6",
              "width": 0.5
             },
             "pattern": {
              "fillmode": "overlay",
              "size": 10,
              "solidity": 0.2
             }
            },
            "type": "bar"
           }
          ],
          "barpolar": [
           {
            "marker": {
             "line": {
              "color": "#E5ECF6",
              "width": 0.5
             },
             "pattern": {
              "fillmode": "overlay",
              "size": 10,
              "solidity": 0.2
             }
            },
            "type": "barpolar"
           }
          ],
          "carpet": [
           {
            "aaxis": {
             "endlinecolor": "#2a3f5f",
             "gridcolor": "white",
             "linecolor": "white",
             "minorgridcolor": "white",
             "startlinecolor": "#2a3f5f"
            },
            "baxis": {
             "endlinecolor": "#2a3f5f",
             "gridcolor": "white",
             "linecolor": "white",
             "minorgridcolor": "white",
             "startlinecolor": "#2a3f5f"
            },
            "type": "carpet"
           }
          ],
          "choropleth": [
           {
            "colorbar": {
             "outlinewidth": 0,
             "ticks": ""
            },
            "type": "choropleth"
           }
          ],
          "contour": [
           {
            "colorbar": {
             "outlinewidth": 0,
             "ticks": ""
            },
            "colorscale": [
             [
              0,
              "#0d0887"
             ],
             [
              0.1111111111111111,
              "#46039f"
             ],
             [
              0.2222222222222222,
              "#7201a8"
             ],
             [
              0.3333333333333333,
              "#9c179e"
             ],
             [
              0.4444444444444444,
              "#bd3786"
             ],
             [
              0.5555555555555556,
              "#d8576b"
             ],
             [
              0.6666666666666666,
              "#ed7953"
             ],
             [
              0.7777777777777778,
              "#fb9f3a"
             ],
             [
              0.8888888888888888,
              "#fdca26"
             ],
             [
              1,
              "#f0f921"
             ]
            ],
            "type": "contour"
           }
          ],
          "contourcarpet": [
           {
            "colorbar": {
             "outlinewidth": 0,
             "ticks": ""
            },
            "type": "contourcarpet"
           }
          ],
          "heatmap": [
           {
            "colorbar": {
             "outlinewidth": 0,
             "ticks": ""
            },
            "colorscale": [
             [
              0,
              "#0d0887"
             ],
             [
              0.1111111111111111,
              "#46039f"
             ],
             [
              0.2222222222222222,
              "#7201a8"
             ],
             [
              0.3333333333333333,
              "#9c179e"
             ],
             [
              0.4444444444444444,
              "#bd3786"
             ],
             [
              0.5555555555555556,
              "#d8576b"
             ],
             [
              0.6666666666666666,
              "#ed7953"
             ],
             [
              0.7777777777777778,
              "#fb9f3a"
             ],
             [
              0.8888888888888888,
              "#fdca26"
             ],
             [
              1,
              "#f0f921"
             ]
            ],
            "type": "heatmap"
           }
          ],
          "heatmapgl": [
           {
            "colorbar": {
             "outlinewidth": 0,
             "ticks": ""
            },
            "colorscale": [
             [
              0,
              "#0d0887"
             ],
             [
              0.1111111111111111,
              "#46039f"
             ],
             [
              0.2222222222222222,
              "#7201a8"
             ],
             [
              0.3333333333333333,
              "#9c179e"
             ],
             [
              0.4444444444444444,
              "#bd3786"
             ],
             [
              0.5555555555555556,
              "#d8576b"
             ],
             [
              0.6666666666666666,
              "#ed7953"
             ],
             [
              0.7777777777777778,
              "#fb9f3a"
             ],
             [
              0.8888888888888888,
              "#fdca26"
             ],
             [
              1,
              "#f0f921"
             ]
            ],
            "type": "heatmapgl"
           }
          ],
          "histogram": [
           {
            "marker": {
             "pattern": {
              "fillmode": "overlay",
              "size": 10,
              "solidity": 0.2
             }
            },
            "type": "histogram"
           }
          ],
          "histogram2d": [
           {
            "colorbar": {
             "outlinewidth": 0,
             "ticks": ""
            },
            "colorscale": [
             [
              0,
              "#0d0887"
             ],
             [
              0.1111111111111111,
              "#46039f"
             ],
             [
              0.2222222222222222,
              "#7201a8"
             ],
             [
              0.3333333333333333,
              "#9c179e"
             ],
             [
              0.4444444444444444,
              "#bd3786"
             ],
             [
              0.5555555555555556,
              "#d8576b"
             ],
             [
              0.6666666666666666,
              "#ed7953"
             ],
             [
              0.7777777777777778,
              "#fb9f3a"
             ],
             [
              0.8888888888888888,
              "#fdca26"
             ],
             [
              1,
              "#f0f921"
             ]
            ],
            "type": "histogram2d"
           }
          ],
          "histogram2dcontour": [
           {
            "colorbar": {
             "outlinewidth": 0,
             "ticks": ""
            },
            "colorscale": [
             [
              0,
              "#0d0887"
             ],
             [
              0.1111111111111111,
              "#46039f"
             ],
             [
              0.2222222222222222,
              "#7201a8"
             ],
             [
              0.3333333333333333,
              "#9c179e"
             ],
             [
              0.4444444444444444,
              "#bd3786"
             ],
             [
              0.5555555555555556,
              "#d8576b"
             ],
             [
              0.6666666666666666,
              "#ed7953"
             ],
             [
              0.7777777777777778,
              "#fb9f3a"
             ],
             [
              0.8888888888888888,
              "#fdca26"
             ],
             [
              1,
              "#f0f921"
             ]
            ],
            "type": "histogram2dcontour"
           }
          ],
          "mesh3d": [
           {
            "colorbar": {
             "outlinewidth": 0,
             "ticks": ""
            },
            "type": "mesh3d"
           }
          ],
          "parcoords": [
           {
            "line": {
             "colorbar": {
              "outlinewidth": 0,
              "ticks": ""
             }
            },
            "type": "parcoords"
           }
          ],
          "pie": [
           {
            "automargin": true,
            "type": "pie"
           }
          ],
          "scatter": [
           {
            "marker": {
             "colorbar": {
              "outlinewidth": 0,
              "ticks": ""
             }
            },
            "type": "scatter"
           }
          ],
          "scatter3d": [
           {
            "line": {
             "colorbar": {
              "outlinewidth": 0,
              "ticks": ""
             }
            },
            "marker": {
             "colorbar": {
              "outlinewidth": 0,
              "ticks": ""
             }
            },
            "type": "scatter3d"
           }
          ],
          "scattercarpet": [
           {
            "marker": {
             "colorbar": {
              "outlinewidth": 0,
              "ticks": ""
             }
            },
            "type": "scattercarpet"
           }
          ],
          "scattergeo": [
           {
            "marker": {
             "colorbar": {
              "outlinewidth": 0,
              "ticks": ""
             }
            },
            "type": "scattergeo"
           }
          ],
          "scattergl": [
           {
            "marker": {
             "colorbar": {
              "outlinewidth": 0,
              "ticks": ""
             }
            },
            "type": "scattergl"
           }
          ],
          "scattermapbox": [
           {
            "marker": {
             "colorbar": {
              "outlinewidth": 0,
              "ticks": ""
             }
            },
            "type": "scattermapbox"
           }
          ],
          "scatterpolar": [
           {
            "marker": {
             "colorbar": {
              "outlinewidth": 0,
              "ticks": ""
             }
            },
            "type": "scatterpolar"
           }
          ],
          "scatterpolargl": [
           {
            "marker": {
             "colorbar": {
              "outlinewidth": 0,
              "ticks": ""
             }
            },
            "type": "scatterpolargl"
           }
          ],
          "scatterternary": [
           {
            "marker": {
             "colorbar": {
              "outlinewidth": 0,
              "ticks": ""
             }
            },
            "type": "scatterternary"
           }
          ],
          "surface": [
           {
            "colorbar": {
             "outlinewidth": 0,
             "ticks": ""
            },
            "colorscale": [
             [
              0,
              "#0d0887"
             ],
             [
              0.1111111111111111,
              "#46039f"
             ],
             [
              0.2222222222222222,
              "#7201a8"
             ],
             [
              0.3333333333333333,
              "#9c179e"
             ],
             [
              0.4444444444444444,
              "#bd3786"
             ],
             [
              0.5555555555555556,
              "#d8576b"
             ],
             [
              0.6666666666666666,
              "#ed7953"
             ],
             [
              0.7777777777777778,
              "#fb9f3a"
             ],
             [
              0.8888888888888888,
              "#fdca26"
             ],
             [
              1,
              "#f0f921"
             ]
            ],
            "type": "surface"
           }
          ],
          "table": [
           {
            "cells": {
             "fill": {
              "color": "#EBF0F8"
             },
             "line": {
              "color": "white"
             }
            },
            "header": {
             "fill": {
              "color": "#C8D4E3"
             },
             "line": {
              "color": "white"
             }
            },
            "type": "table"
           }
          ]
         },
         "layout": {
          "annotationdefaults": {
           "arrowcolor": "#2a3f5f",
           "arrowhead": 0,
           "arrowwidth": 1
          },
          "autotypenumbers": "strict",
          "coloraxis": {
           "colorbar": {
            "outlinewidth": 0,
            "ticks": ""
           }
          },
          "colorscale": {
           "diverging": [
            [
             0,
             "#8e0152"
            ],
            [
             0.1,
             "#c51b7d"
            ],
            [
             0.2,
             "#de77ae"
            ],
            [
             0.3,
             "#f1b6da"
            ],
            [
             0.4,
             "#fde0ef"
            ],
            [
             0.5,
             "#f7f7f7"
            ],
            [
             0.6,
             "#e6f5d0"
            ],
            [
             0.7,
             "#b8e186"
            ],
            [
             0.8,
             "#7fbc41"
            ],
            [
             0.9,
             "#4d9221"
            ],
            [
             1,
             "#276419"
            ]
           ],
           "sequential": [
            [
             0,
             "#0d0887"
            ],
            [
             0.1111111111111111,
             "#46039f"
            ],
            [
             0.2222222222222222,
             "#7201a8"
            ],
            [
             0.3333333333333333,
             "#9c179e"
            ],
            [
             0.4444444444444444,
             "#bd3786"
            ],
            [
             0.5555555555555556,
             "#d8576b"
            ],
            [
             0.6666666666666666,
             "#ed7953"
            ],
            [
             0.7777777777777778,
             "#fb9f3a"
            ],
            [
             0.8888888888888888,
             "#fdca26"
            ],
            [
             1,
             "#f0f921"
            ]
           ],
           "sequentialminus": [
            [
             0,
             "#0d0887"
            ],
            [
             0.1111111111111111,
             "#46039f"
            ],
            [
             0.2222222222222222,
             "#7201a8"
            ],
            [
             0.3333333333333333,
             "#9c179e"
            ],
            [
             0.4444444444444444,
             "#bd3786"
            ],
            [
             0.5555555555555556,
             "#d8576b"
            ],
            [
             0.6666666666666666,
             "#ed7953"
            ],
            [
             0.7777777777777778,
             "#fb9f3a"
            ],
            [
             0.8888888888888888,
             "#fdca26"
            ],
            [
             1,
             "#f0f921"
            ]
           ]
          },
          "colorway": [
           "#636efa",
           "#EF553B",
           "#00cc96",
           "#ab63fa",
           "#FFA15A",
           "#19d3f3",
           "#FF6692",
           "#B6E880",
           "#FF97FF",
           "#FECB52"
          ],
          "font": {
           "color": "#2a3f5f"
          },
          "geo": {
           "bgcolor": "white",
           "lakecolor": "white",
           "landcolor": "#E5ECF6",
           "showlakes": true,
           "showland": true,
           "subunitcolor": "white"
          },
          "hoverlabel": {
           "align": "left"
          },
          "hovermode": "closest",
          "mapbox": {
           "style": "light"
          },
          "paper_bgcolor": "white",
          "plot_bgcolor": "#E5ECF6",
          "polar": {
           "angularaxis": {
            "gridcolor": "white",
            "linecolor": "white",
            "ticks": ""
           },
           "bgcolor": "#E5ECF6",
           "radialaxis": {
            "gridcolor": "white",
            "linecolor": "white",
            "ticks": ""
           }
          },
          "scene": {
           "xaxis": {
            "backgroundcolor": "#E5ECF6",
            "gridcolor": "white",
            "gridwidth": 2,
            "linecolor": "white",
            "showbackground": true,
            "ticks": "",
            "zerolinecolor": "white"
           },
           "yaxis": {
            "backgroundcolor": "#E5ECF6",
            "gridcolor": "white",
            "gridwidth": 2,
            "linecolor": "white",
            "showbackground": true,
            "ticks": "",
            "zerolinecolor": "white"
           },
           "zaxis": {
            "backgroundcolor": "#E5ECF6",
            "gridcolor": "white",
            "gridwidth": 2,
            "linecolor": "white",
            "showbackground": true,
            "ticks": "",
            "zerolinecolor": "white"
           }
          },
          "shapedefaults": {
           "line": {
            "color": "#2a3f5f"
           }
          },
          "ternary": {
           "aaxis": {
            "gridcolor": "white",
            "linecolor": "white",
            "ticks": ""
           },
           "baxis": {
            "gridcolor": "white",
            "linecolor": "white",
            "ticks": ""
           },
           "bgcolor": "#E5ECF6",
           "caxis": {
            "gridcolor": "white",
            "linecolor": "white",
            "ticks": ""
           }
          },
          "title": {
           "x": 0.05
          },
          "xaxis": {
           "automargin": true,
           "gridcolor": "white",
           "linecolor": "white",
           "ticks": "",
           "title": {
            "standoff": 15
           },
           "zerolinecolor": "white",
           "zerolinewidth": 2
          },
          "yaxis": {
           "automargin": true,
           "gridcolor": "white",
           "linecolor": "white",
           "ticks": "",
           "title": {
            "standoff": 15
           },
           "zerolinecolor": "white",
           "zerolinewidth": 2
          }
         }
        },
        "xaxis": {
         "anchor": "y",
         "domain": [
          0,
          1
         ],
         "title": {
          "text": "VaccinationDate"
         }
        },
        "yaxis": {
         "anchor": "x",
         "domain": [
          0,
          1
         ],
         "title": {
          "text": "TotalCumulative"
         }
        }
       }
      }
     },
     "metadata": {},
     "output_type": "display_data"
    }
   ],
   "source": [
    "\n",
    "import plotly.express as express_plot\n",
    "\n",
    "express_plot.line(pg_data_frame, x='VaccinationDate', y='TotalCumulative')\n"
   ]
  },
  {
   "cell_type": "markdown",
   "metadata": {},
   "source": [
    "# How Could the Dataset Publishing be Improved?\n",
    "\n",
    "The Maryland Department of Health can do a number of things to publish this data in a more user-friendly way. First, they should standardize the variable naming styles to something like what is done in this notebook. There are also a lot of null cells that are left blank, which can be confusing. Putting \"NULL\" in those cells would be the most obvious way to solve that problem. Additionally, the order of the columns might be swithced around to make daily and cumulative doses next to each other. Also, the wording of naming one column \"AtLeastOneDose\" could confuse some people with regards to whether or not that registers a single-shot vaccine dose."
   ]
  }
 ],
 "metadata": {
  "interpreter": {
   "hash": "82f97f20bca9d76ec0b96a22dabc0cceddf6e5dcbc5634ba1f292834cf98c394"
  },
  "kernelspec": {
   "display_name": "Python 3.9.7 64-bit",
   "name": "python3"
  },
  "language_info": {
   "codemirror_mode": {
    "name": "ipython",
    "version": 3
   },
   "file_extension": ".py",
   "mimetype": "text/x-python",
   "name": "python",
   "nbconvert_exporter": "python",
   "pygments_lexer": "ipython3",
   "version": "3.9.7"
  },
  "orig_nbformat": 4
 },
 "nbformat": 4,
 "nbformat_minor": 2
}
